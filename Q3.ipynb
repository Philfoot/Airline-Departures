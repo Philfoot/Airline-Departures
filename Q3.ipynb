{
 "cells": [
  {
   "cell_type": "code",
   "execution_count": 1,
   "metadata": {},
   "outputs": [],
   "source": [
    "import pandas as pd\n",
    "import numpy as np\n",
    "\n",
    "from scipy.io import loadmat\n",
    "iv = loadmat('IV.mat')\n",
    "\n",
    "from pandas import DataFrame\n",
    "X = DataFrame.from_records(iv[\"X\"])\n",
    "X1=pd.DataFrame(X[0])\n",
    "X2=pd.DataFrame(X[1])\n",
    "X3=pd.DataFrame(X[2])\n",
    "Y = DataFrame.from_records(iv[\"Y\"])\n",
    "Z = DataFrame.from_records(iv[\"Z\"])\n",
    "\n",
    "n=np.array(Y.count())\n",
    "\n",
    "def g_samp(b):\n",
    "    return (1/n)*np.matmul(np.transpose(Z),np.subtract(np.subtract(np.subtract(Y,X1*b[0]),X2*b[1]),X3*b[2]))\n",
    "\n",
    "W = np.identity(4)\n",
    "def Q(b):\n",
    "    return np.matmul(np.matmul(np.transpose(g_samp(b)),W),g_samp(b))\n",
    "\n",
    "from scipy.optimize import basinhopping\n",
    "x0=np.array([0,0,0])\n",
    "betas = basinhopping(Q,x0,niter=10)\n",
    "\n",
    "b_1st = pd.DataFrame(betas.x)\n",
    "e = Y-np.matmul(X,b_1st)\n",
    "e2 = np.array(np.square(e))\n",
    "W_eff = np.linalg.inv(np.matmul(np.transpose(np.multiply(e2,Z)),Z))\n",
    "\n",
    "\n",
    "def Q2(b):\n",
    "    return np.matmul(np.matmul(np.transpose(g_samp(b)),W_eff),g_samp(b))\n",
    "\n",
    "betas2 = basinhopping(Q2,x0,niter=10)"
   ]
  },
  {
   "cell_type": "code",
   "execution_count": 5,
   "metadata": {
    "scrolled": true
   },
   "outputs": [
    {
     "data": {
      "text/plain": [
       "array([1.91868978, 1.10360019, 3.65262034])"
      ]
     },
     "execution_count": 5,
     "metadata": {},
     "output_type": "execute_result"
    }
   ],
   "source": [
    "betas.x"
   ]
  },
  {
   "cell_type": "code",
   "execution_count": 3,
   "metadata": {},
   "outputs": [
    {
     "data": {
      "text/plain": [
       "array([1.90681819, 1.0393133 , 3.68069986])"
      ]
     },
     "execution_count": 3,
     "metadata": {},
     "output_type": "execute_result"
    }
   ],
   "source": [
    "betas2.x"
   ]
  }
 ],
 "metadata": {
  "kernelspec": {
   "display_name": "Python 3",
   "language": "python",
   "name": "python3"
  },
  "language_info": {
   "codemirror_mode": {
    "name": "ipython",
    "version": 3
   },
   "file_extension": ".py",
   "mimetype": "text/x-python",
   "name": "python",
   "nbconvert_exporter": "python",
   "pygments_lexer": "ipython3",
   "version": "3.6.2"
  }
 },
 "nbformat": 4,
 "nbformat_minor": 2
}
