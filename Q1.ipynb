{
 "cells": [
  {
   "cell_type": "code",
   "execution_count": 1,
   "metadata": {},
   "outputs": [
    {
     "data": {
      "text/html": [
       "<div>\n",
       "<style scoped>\n",
       "    .dataframe tbody tr th:only-of-type {\n",
       "        vertical-align: middle;\n",
       "    }\n",
       "\n",
       "    .dataframe tbody tr th {\n",
       "        vertical-align: top;\n",
       "    }\n",
       "\n",
       "    .dataframe thead th {\n",
       "        text-align: right;\n",
       "    }\n",
       "</style>\n",
       "<table border=\"1\" class=\"dataframe\">\n",
       "  <thead>\n",
       "    <tr style=\"text-align: right;\">\n",
       "      <th></th>\n",
       "      <th>ARR_DELAY</th>\n",
       "      <th>DAY_OF_WEEK</th>\n",
       "      <th>DEP_DELAY</th>\n",
       "      <th>DISTANCE</th>\n",
       "      <th>CONS</th>\n",
       "    </tr>\n",
       "  </thead>\n",
       "  <tbody>\n",
       "    <tr>\n",
       "      <th>0</th>\n",
       "      <td>-2</td>\n",
       "      <td>5</td>\n",
       "      <td>3</td>\n",
       "      <td>31</td>\n",
       "      <td>1</td>\n",
       "    </tr>\n",
       "    <tr>\n",
       "      <th>1</th>\n",
       "      <td>-20</td>\n",
       "      <td>6</td>\n",
       "      <td>0</td>\n",
       "      <td>67</td>\n",
       "      <td>1</td>\n",
       "    </tr>\n",
       "    <tr>\n",
       "      <th>2</th>\n",
       "      <td>-17</td>\n",
       "      <td>2</td>\n",
       "      <td>-18</td>\n",
       "      <td>67</td>\n",
       "      <td>1</td>\n",
       "    </tr>\n",
       "    <tr>\n",
       "      <th>3</th>\n",
       "      <td>-17</td>\n",
       "      <td>1</td>\n",
       "      <td>-2</td>\n",
       "      <td>67</td>\n",
       "      <td>1</td>\n",
       "    </tr>\n",
       "    <tr>\n",
       "      <th>4</th>\n",
       "      <td>-14</td>\n",
       "      <td>2</td>\n",
       "      <td>-9</td>\n",
       "      <td>67</td>\n",
       "      <td>1</td>\n",
       "    </tr>\n",
       "  </tbody>\n",
       "</table>\n",
       "</div>"
      ],
      "text/plain": [
       "   ARR_DELAY  DAY_OF_WEEK  DEP_DELAY  DISTANCE  CONS\n",
       "0         -2            5          3        31     1\n",
       "1        -20            6          0        67     1\n",
       "2        -17            2        -18        67     1\n",
       "3        -17            1         -2        67     1\n",
       "4        -14            2         -9        67     1"
      ]
     },
     "execution_count": 1,
     "metadata": {},
     "output_type": "execute_result"
    }
   ],
   "source": [
    "import pandas as pd\n",
    "\n",
    "airline = pd.read_csv(\"airline.txt\")\n",
    "airline['CONS']=1\n",
    "airline.head()"
   ]
  },
  {
   "cell_type": "code",
   "execution_count": 2,
   "metadata": {},
   "outputs": [
    {
     "data": {
      "text/html": [
       "<div>\n",
       "<style scoped>\n",
       "    .dataframe tbody tr th:only-of-type {\n",
       "        vertical-align: middle;\n",
       "    }\n",
       "\n",
       "    .dataframe tbody tr th {\n",
       "        vertical-align: top;\n",
       "    }\n",
       "\n",
       "    .dataframe thead th {\n",
       "        text-align: right;\n",
       "    }\n",
       "</style>\n",
       "<table border=\"1\" class=\"dataframe\">\n",
       "  <thead>\n",
       "    <tr style=\"text-align: right;\">\n",
       "      <th></th>\n",
       "      <th>DAY_1</th>\n",
       "      <th>DAY_2</th>\n",
       "      <th>DAY_3</th>\n",
       "      <th>DAY_4</th>\n",
       "      <th>DAY_5</th>\n",
       "      <th>DAY_6</th>\n",
       "    </tr>\n",
       "  </thead>\n",
       "  <tbody>\n",
       "    <tr>\n",
       "      <th>0</th>\n",
       "      <td>0</td>\n",
       "      <td>0</td>\n",
       "      <td>0</td>\n",
       "      <td>0</td>\n",
       "      <td>1</td>\n",
       "      <td>0</td>\n",
       "    </tr>\n",
       "    <tr>\n",
       "      <th>1</th>\n",
       "      <td>0</td>\n",
       "      <td>0</td>\n",
       "      <td>0</td>\n",
       "      <td>0</td>\n",
       "      <td>0</td>\n",
       "      <td>1</td>\n",
       "    </tr>\n",
       "    <tr>\n",
       "      <th>2</th>\n",
       "      <td>0</td>\n",
       "      <td>1</td>\n",
       "      <td>0</td>\n",
       "      <td>0</td>\n",
       "      <td>0</td>\n",
       "      <td>0</td>\n",
       "    </tr>\n",
       "    <tr>\n",
       "      <th>3</th>\n",
       "      <td>1</td>\n",
       "      <td>0</td>\n",
       "      <td>0</td>\n",
       "      <td>0</td>\n",
       "      <td>0</td>\n",
       "      <td>0</td>\n",
       "    </tr>\n",
       "    <tr>\n",
       "      <th>4</th>\n",
       "      <td>0</td>\n",
       "      <td>1</td>\n",
       "      <td>0</td>\n",
       "      <td>0</td>\n",
       "      <td>0</td>\n",
       "      <td>0</td>\n",
       "    </tr>\n",
       "  </tbody>\n",
       "</table>\n",
       "</div>"
      ],
      "text/plain": [
       "   DAY_1  DAY_2  DAY_3  DAY_4  DAY_5  DAY_6\n",
       "0      0      0      0      0      1      0\n",
       "1      0      0      0      0      0      1\n",
       "2      0      1      0      0      0      0\n",
       "3      1      0      0      0      0      0\n",
       "4      0      1      0      0      0      0"
      ]
     },
     "execution_count": 2,
     "metadata": {},
     "output_type": "execute_result"
    }
   ],
   "source": [
    "day_dummies = pd.get_dummies(airline[\"DAY_OF_WEEK\"],prefix='DAY')\n",
    "day_dummies = day_dummies.drop('DAY_7',axis=1)\n",
    "day_dummies.head()"
   ]
  },
  {
   "cell_type": "code",
   "execution_count": 3,
   "metadata": {},
   "outputs": [],
   "source": [
    "X = pd.concat([airline[['CONS','DISTANCE','DEP_DELAY']],day_dummies],axis=1)\n",
    "Y = airline['ARR_DELAY']"
   ]
  },
  {
   "cell_type": "code",
   "execution_count": 4,
   "metadata": {},
   "outputs": [
    {
     "name": "stdout",
     "output_type": "stream",
     "text": [
      "[-1.26705555 -0.00313306  1.01656564  0.84352555 -0.07468387  1.01286906\n",
      "  0.50906635 -0.87298581 -0.69730066]\n"
     ]
    }
   ],
   "source": [
    "import numpy as np\n",
    "\n",
    "b_ols = np.matmul(np.linalg.inv(np.matmul(np.transpose(X),X)),np.matmul(np.transpose(X),Y))\n",
    "print(b_ols)"
   ]
  },
  {
   "cell_type": "code",
   "execution_count": 5,
   "metadata": {},
   "outputs": [
    {
     "name": "stdout",
     "output_type": "stream",
     "text": [
      "Optimization terminated successfully.\n",
      "         Current function value: 4325130.053045\n",
      "         Iterations: 2583\n",
      "         Function evaluations: 3816\n"
     ]
    },
    {
     "data": {
      "text/plain": [
       "array([-0.94017593, -0.00337522,  1.01578634,  1.07916508, -0.54383536,\n",
       "        0.88797133,  0.57443649, -0.69911015, -0.71756321])"
      ]
     },
     "execution_count": 5,
     "metadata": {},
     "output_type": "execute_result"
    }
   ],
   "source": [
    "import scipy as sp\n",
    "from scipy.optimize import fmin\n",
    "\n",
    "def f(b):\n",
    "    return np.sum((Y-b[0]*X['CONS']-b[1]*X['DISTANCE']-b[2]*X['DEP_DELAY']-b[3]*X['DAY_1']-b[4]*X['DAY_2']\n",
    "            + -b[5]*X['DAY_3']-b[6]*X['DAY_4']-b[7]*X['DAY_5']-b[8]*X['DAY_6'])**2)\n",
    "\n",
    "x0 = np.array([0,0,0,0,0,0,0,0,0])\n",
    "betas = fmin(f,x0,xtol=1e-8,maxfun=10000)\n",
    "betas"
   ]
  },
  {
   "cell_type": "code",
   "execution_count": 8,
   "metadata": {},
   "outputs": [
    {
     "data": {
      "text/plain": [
       "array([-1.26704996, -0.00313308,  1.01656564,  0.84353371, -0.07467575,\n",
       "        1.01287327,  0.50907891, -0.87297565, -0.69729074])"
      ]
     },
     "execution_count": 8,
     "metadata": {},
     "output_type": "execute_result"
    }
   ],
   "source": [
    "from scipy.optimize import basinhopping\n",
    "\n",
    "betas2 = basinhopping(f,x0,niter=10)\n",
    "betas2.x"
   ]
  }
 ],
 "metadata": {
  "kernelspec": {
   "display_name": "Python 3",
   "language": "python",
   "name": "python3"
  },
  "language_info": {
   "codemirror_mode": {
    "name": "ipython",
    "version": 3
   },
   "file_extension": ".py",
   "mimetype": "text/x-python",
   "name": "python",
   "nbconvert_exporter": "python",
   "pygments_lexer": "ipython3",
   "version": "3.6.2"
  }
 },
 "nbformat": 4,
 "nbformat_minor": 2
}
